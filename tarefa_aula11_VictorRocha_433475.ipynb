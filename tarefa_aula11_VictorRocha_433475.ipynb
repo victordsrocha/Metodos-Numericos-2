{
  "nbformat": 4,
  "nbformat_minor": 0,
  "metadata": {
    "colab": {
      "name": "tarefa-aula11-VictorRocha-433475.ipynb",
      "provenance": [],
      "authorship_tag": "ABX9TyPADI2h+9RujWuB62a4zUKg",
      "include_colab_link": true
    },
    "kernelspec": {
      "name": "python3",
      "display_name": "Python 3"
    },
    "language_info": {
      "name": "python"
    }
  },
  "cells": [
    {
      "cell_type": "markdown",
      "metadata": {
        "id": "view-in-github",
        "colab_type": "text"
      },
      "source": [
        "<a href=\"https://colab.research.google.com/github/victordsrocha/Metodos-Numericos-2/blob/main/tarefa_aula11_VictorRocha_433475.ipynb\" target=\"_parent\"><img src=\"https://colab.research.google.com/assets/colab-badge.svg\" alt=\"Open In Colab\"/></a>"
      ]
    },
    {
      "cell_type": "markdown",
      "metadata": {
        "id": "qVOcW56ZxKrQ"
      },
      "source": [
        "Victor de Sousa Rocha - \n",
        "Métodos Numéricos 2 - Tarefa Aula 11\n",
        "\n",
        "Este programa calcula o número de iterações necessárias para alcançar\n",
        "o erro relativo de $10^{-6}$ para a integração da função dada como exemplo na\n",
        "Aula 11 pelas fórmulas de Quadratura de Gauss-Legendre\n",
        "\n",
        "$\\int_{0}^{1} (\\sin{2x} + 4x^2 + 3x)^{2} \\,dx$\n",
        "\n",
        "Cada iteração duplica a quantidade de partições utilizadas."
      ]
    },
    {
      "cell_type": "markdown",
      "metadata": {
        "id": "Z4SEMUJSx0xW"
      },
      "source": [
        "O bloco de código abaixo contém um método para cada fórmula estudada e um método para a função f(x) utilizada (função dada como exemplo na Aula:  $ f(x)= (\\sin{2x} + 4x^2 + 3x)^{2} $ )"
      ]
    },
    {
      "cell_type": "code",
      "metadata": {
        "id": "GosNvNnDx4_x"
      },
      "source": [
        "import math\n",
        "\n",
        "\n",
        "def f(x):\n",
        "    \"\"\"\n",
        "    função f(x) dada como exemplo na Aula 08\n",
        "    \"\"\"\n",
        "    return math.pow((math.sin(2 * x) + 4 * math.pow(x, 2) + 3 * x), 2)\n",
        "\n",
        "\n",
        "def gauss_leg_2points(a, b, _f):\n",
        "    \"\"\"\n",
        "    Quadraturas de Gauss-Legendre de 2 pontos\n",
        "    :param a: início do intervalo\n",
        "    :param b: fim do intervalo\n",
        "    :param _f: função f(x)\n",
        "    :return: estimativa da integral definida de f(x) no intervalo a,b\n",
        "    \"\"\"\n",
        "\n",
        "    alpha1 = -math.sqrt(1 / 3)\n",
        "    alpha2 = -alpha1\n",
        "\n",
        "    x1 = ((a + b) / 2) + ((b - a) / 2) * alpha1\n",
        "    x2 = ((a + b) / 2) + ((b - a) / 2) * alpha2\n",
        "\n",
        "    f1 = f(x1)\n",
        "    f2 = f(x2)\n",
        "\n",
        "    w1 = 1\n",
        "    w2 = 1\n",
        "\n",
        "    return ((b - a) / 2) * (f1 * w1 + f2 * w2)\n",
        "\n",
        "\n",
        "def gauss_leg_3points(a, b, _f):\n",
        "    \"\"\"\n",
        "    Quadraturas de Gauss-Legendre de 3 pontos\n",
        "    :param a: início do intervalo\n",
        "    :param b: fim do intervalo\n",
        "    :param _f: função f(x)\n",
        "    :return: estimativa da integral definida de f(x) no intervalo a,b\n",
        "    \"\"\"\n",
        "\n",
        "    alpha1 = -math.sqrt(3 / 5)\n",
        "    alpha2 = 0\n",
        "    alpha3 = -alpha1\n",
        "\n",
        "    x1 = ((a + b) / 2) + ((b - a) / 2) * alpha1\n",
        "    x2 = ((a + b) / 2) + ((b - a) / 2) * alpha2\n",
        "    x3 = ((a + b) / 2) + ((b - a) / 2) * alpha3\n",
        "\n",
        "    f1 = f(x1)\n",
        "    f2 = f(x2)\n",
        "    f3 = f(x3)\n",
        "\n",
        "    w1 = 5 / 9\n",
        "    w2 = 8 / 9\n",
        "    w3 = w1\n",
        "\n",
        "    return ((b - a) / 2) * (f1 * w1 + f2 * w2 + f3 * w3)\n",
        "\n",
        "\n",
        "def gauss_leg_4points(a, b, _f):\n",
        "    \"\"\"\n",
        "    Quadraturas de Gauss-Legendre de 4 pontos\n",
        "    :param a: início do intervalo\n",
        "    :param b: fim do intervalo\n",
        "    :param _f: função f(x)\n",
        "    :return: estimativa da integral definida de f(x) no intervalo a,b\n",
        "    \"\"\"\n",
        "\n",
        "    alpha1 = -math.sqrt((3 / 7) + (2 / 7) * math.sqrt(6 / 5))\n",
        "    alpha2 = -math.sqrt((3 / 7) - (2 / 7) * math.sqrt(6 / 5))\n",
        "    alpha3 = -alpha2\n",
        "    alpha4 = -alpha1\n",
        "\n",
        "    x1 = ((a + b) / 2) + ((b - a) / 2) * alpha1\n",
        "    x2 = ((a + b) / 2) + ((b - a) / 2) * alpha2\n",
        "    x3 = ((a + b) / 2) + ((b - a) / 2) * alpha3\n",
        "    x4 = ((a + b) / 2) + ((b - a) / 2) * alpha4\n",
        "\n",
        "    f1 = f(x1)\n",
        "    f2 = f(x2)\n",
        "    f3 = f(x3)\n",
        "    f4 = f(x4)\n",
        "\n",
        "    w1 = (18 - math.sqrt(30)) / 36\n",
        "    w2 = (18 + math.sqrt(30)) / 36\n",
        "    w3 = w2\n",
        "    w4 = w1\n",
        "\n",
        "    return ((b - a) / 2) * (f1 * w1 + f2 * w2 + f3 * w3 + f4 * w4)"
      ],
      "execution_count": 3,
      "outputs": []
    },
    {
      "cell_type": "markdown",
      "metadata": {
        "id": "TEpMKgi9yAXV"
      },
      "source": [
        "O próximo bloco contém o método responsável por realizar as iterações aumentando o número de partições\n",
        "\n",
        "Imprime os resultados de cada iteração até alcançar erro relativo menor do que a tolerância passada como parâmetro"
      ]
    },
    {
      "cell_type": "code",
      "metadata": {
        "id": "ySPqbPBWySn2"
      },
      "source": [
        "def calc_integral_particoes(a, b, _f, metodo, integral_exata, erro_relativo):\n",
        "    print('método: {}'.format(metodo.__name__))\n",
        "    n = 1  # quantidade de partições\n",
        "    c = 0  # contador de iterações\n",
        "    while True:\n",
        "        c += 1\n",
        "        h = (b - a) / n\n",
        "        integral_calculada = 0\n",
        "        for i in range(n):\n",
        "            inicio_intervalo = a + (i * h)\n",
        "            fim_intervalo = a + ((i + 1) * h)\n",
        "            integral_calculada += metodo(inicio_intervalo, fim_intervalo, _f)\n",
        "\n",
        "        erro_relativo_atual = math.fabs((integral_exata - integral_calculada) / integral_calculada)\n",
        "        if erro_relativo_atual < erro_relativo:\n",
        "            break\n",
        "        # imprime os valores atuais caso se mantenha dentro do while\n",
        "        print('Iteração {} - Partições utilizadas: {}, Valor estimado da integral: {}, '\n",
        "              'erro relativo: {}'.format(c, n, integral_calculada, erro_relativo_atual))\n",
        "        n *= 2  # duplica a quantidade de partições case se mantenha dentro do while\n",
        "    # Após sair do while imprime os valores da iteração que obteve sucesso em alcançar o erro relativo procurado\n",
        "    print('Iteração {} - Partições utilizadas: {}, Valor estimado da integral: {}, '\n",
        "          'erro relativo: {}'.format(c, n, integral_calculada, erro_relativo_atual))"
      ],
      "execution_count": 4,
      "outputs": []
    },
    {
      "cell_type": "markdown",
      "metadata": {
        "id": "JrrfYTrKyrNl"
      },
      "source": [
        "**Resultados para Gauss-Legendre com 2 pontos.**"
      ]
    },
    {
      "cell_type": "code",
      "metadata": {
        "colab": {
          "base_uri": "https://localhost:8080/"
        },
        "id": "lfQwd0rVyz7i",
        "outputId": "13e8aab3-a361-470f-dcd1-58a7ee969ea6"
      },
      "source": [
        "integral_exata = 17.8764703\n",
        "tolerancia = math.pow(10, -6)\n",
        "calc_integral_particoes(0, 1, f, gauss_leg_2points, integral_exata, tolerancia)"
      ],
      "execution_count": 6,
      "outputs": [
        {
          "output_type": "stream",
          "text": [
            "método: gauss_leg_2points\n",
            "Iteração 1 - Partições utilizadas: 1, Valor estimado da integral: 17.88248189037774, erro relativo: 0.00033617203778483454\n",
            "Iteração 2 - Partições utilizadas: 2, Valor estimado da integral: 17.87566933416629, erro relativo: 4.48075995778618e-05\n",
            "Iteração 3 - Partições utilizadas: 4, Valor estimado da integral: 17.876404215076157, erro relativo: 3.6967682677799146e-06\n",
            "Iteração 4 - Partições utilizadas: 8, Valor estimado da integral: 17.876465967458124, erro relativo: 2.423600886857568e-07\n"
          ],
          "name": "stdout"
        }
      ]
    },
    {
      "cell_type": "markdown",
      "metadata": {
        "id": "M7f8Zmz4zN1S"
      },
      "source": [
        "**Resultados para Gauss-Legendre com 3 pontos.**"
      ]
    },
    {
      "cell_type": "code",
      "metadata": {
        "colab": {
          "base_uri": "https://localhost:8080/"
        },
        "id": "imR121Ngy4Tk",
        "outputId": "e1a4c23a-7a74-4fb6-f8a3-05d53407aaf2"
      },
      "source": [
        "integral_exata = 17.8764703\n",
        "tolerancia = math.pow(10, -6)\n",
        "calc_integral_particoes(0, 1, f, gauss_leg_3points, integral_exata, tolerancia)"
      ],
      "execution_count": 7,
      "outputs": [
        {
          "output_type": "stream",
          "text": [
            "método: gauss_leg_3points\n",
            "Iteração 1 - Partições utilizadas: 1, Valor estimado da integral: 17.87476878131702, erro relativo: 9.519108771689858e-05\n",
            "Iteração 2 - Partições utilizadas: 2, Valor estimado da integral: 17.87644718170651, erro relativo: 1.293226403217669e-06\n",
            "Iteração 3 - Partições utilizadas: 4, Valor estimado da integral: 17.876469993907897, erro relativo: 1.7122625700487483e-08\n"
          ],
          "name": "stdout"
        }
      ]
    },
    {
      "cell_type": "markdown",
      "metadata": {
        "id": "UTEhMWOszTm8"
      },
      "source": [
        "**Resultados para Gauss-Legendre com 4 pontos.**"
      ]
    },
    {
      "cell_type": "code",
      "metadata": {
        "colab": {
          "base_uri": "https://localhost:8080/"
        },
        "id": "YfmyiFy0zWoG",
        "outputId": "1fea5aa9-8593-4931-98e3-708127104bab"
      },
      "source": [
        "integral_exata = 17.8764703\n",
        "tolerancia = math.pow(10, -6)\n",
        "calc_integral_particoes(0, 1, f, gauss_leg_4points, integral_exata, tolerancia)"
      ],
      "execution_count": 8,
      "outputs": [
        {
          "output_type": "stream",
          "text": [
            "método: gauss_leg_4points\n",
            "Iteração 1 - Partições utilizadas: 1, Valor estimado da integral: 17.876480069132374, erro relativo: 5.464796388664996e-07\n"
          ],
          "name": "stdout"
        }
      ]
    }
  ]
}