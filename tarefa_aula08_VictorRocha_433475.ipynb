{
  "nbformat": 4,
  "nbformat_minor": 0,
  "metadata": {
    "colab": {
      "name": "tarefa-aula08-VictorRocha-433475.ipynb",
      "provenance": [],
      "authorship_tag": "ABX9TyNJ8mrvWf34UyZOZThOI4fL",
      "include_colab_link": true
    },
    "kernelspec": {
      "name": "python3",
      "display_name": "Python 3"
    },
    "language_info": {
      "name": "python"
    }
  },
  "cells": [
    {
      "cell_type": "markdown",
      "metadata": {
        "id": "view-in-github",
        "colab_type": "text"
      },
      "source": [
        "<a href=\"https://colab.research.google.com/github/victordsrocha/Metodos-Numericos-2/blob/main/tarefa_aula08_VictorRocha_433475.ipynb\" target=\"_parent\"><img src=\"https://colab.research.google.com/assets/colab-badge.svg\" alt=\"Open In Colab\"/></a>"
      ]
    },
    {
      "cell_type": "markdown",
      "metadata": {
        "id": "aA_bg8_-85gH"
      },
      "source": [
        "Victor de Sousa Rocha - \n",
        "Métodos Numéricos 2 - Tarefa Aula 08\n",
        "\n",
        "Este programa calcula o número de partições necessárias para alcançar\n",
        "o erro absoluto e o erro relativo de $10^{-6}$ para a integração da função dada como exemplo na\n",
        "Aula 08 pelas fórmulas de integração de Newton-Cotes\n",
        "\n",
        "$\\int_{0}^{1} (\\sin{2x} + 4x^2 + 3x)^{2} \\,dx$\n",
        "\n",
        "Optei por incrementar o número de partições\n",
        "em somente uma unidade a cada interação, por isso o programa pode levar alguns segundos\n",
        "para imprimir os resultados\n",
        "\n",
        "-------------------------------------------------------------"
      ]
    },
    {
      "cell_type": "markdown",
      "metadata": {
        "id": "EUqFcTZW9UEU"
      },
      "source": [
        "O bloco de código abaixo contém um método para cada fórmula de newton-cotes estudada e um método para a função f(x) utilizada (função dada como exemplo na Aula 08:  $ f(x)= (\\sin{2x} + 4x^2 + 3x)^{2} $ )"
      ]
    },
    {
      "cell_type": "code",
      "metadata": {
        "id": "Ryhs77uw9qZ7"
      },
      "source": [
        "import math\n",
        "\n",
        "\n",
        "def f(x):\n",
        "    \"\"\"\n",
        "    função f(x) dada como exemplo na Aula 08\n",
        "    \"\"\"\n",
        "    return math.pow((math.sin(2 * x) + 4 * math.pow(x, 2) + 3 * x), 2)\n",
        "\n",
        "\n",
        "def newtoncotes_grau1_fechado(a, b, _f):\n",
        "    \"\"\"\n",
        "    Fórmula de integração de Newton-Cotes - Abordagem Fechada\n",
        "    Polinômio de substituição de grau 1\n",
        "    :param a: início do intervalo\n",
        "    :param b: fim do intervalo\n",
        "    :param _f: função f(x)\n",
        "    :return: estimativa da integral definida de f(x) no intervalo a,b\n",
        "    \"\"\"\n",
        "\n",
        "    h = (b - a)\n",
        "    f0 = _f(a)\n",
        "    f1 = _f(b)\n",
        "    return h / 2 * (f0 + f1)\n",
        "\n",
        "\n",
        "def newtoncotes_grau2_fechado(a, b, _f):\n",
        "    \"\"\"\n",
        "    Fórmula de integração de Newton-Cotes - Abordagem Fechada\n",
        "    Polinômio de substituição de grau 2\n",
        "    :param a: início do intervalo\n",
        "    :param b: fim do intervalo\n",
        "    :param _f: função f(x)\n",
        "    :return: estimativa da integral definida de f(x) no intervalo a,b\n",
        "    \"\"\"\n",
        "\n",
        "    h = (b - a) / 2\n",
        "    f0 = _f(a)\n",
        "    f1 = _f(a + h)\n",
        "    f2 = _f(b)\n",
        "    return h / 3 * (f0 + 4 * f1 + f2)\n",
        "\n",
        "\n",
        "def newtoncotes_grau3_fechado(a, b, _f):\n",
        "    \"\"\"\n",
        "    Fórmula de integração de Newton-Cotes - Abordagem Fechada\n",
        "    Polinômio de substituição de grau 3\n",
        "    :param a: início do intervalo\n",
        "    :param b: fim do intervalo\n",
        "    :param _f: função f(x)\n",
        "    :return: estimativa da integral definida de f(x) no intervalo a,b\n",
        "    \"\"\"\n",
        "\n",
        "    h = (b - a) / 3\n",
        "    f0 = _f(a)\n",
        "    f1 = _f(a + h)\n",
        "    f2 = _f(a + 2 * h)\n",
        "    f3 = _f(b)\n",
        "    return 3 * h / 8 * (f0 + 3 * f1 + 3 * f2 + f3)\n",
        "\n",
        "\n",
        "def newtoncotes_grau4_fechado(a, b, _f):\n",
        "    \"\"\"\n",
        "    Fórmula de integração de Newton-Cotes - Abordagem Fechada\n",
        "    Polinômio de substituição de grau 4\n",
        "    :param a: início do intervalo\n",
        "    :param b: fim do intervalo\n",
        "    :param _f: função f(x)\n",
        "    :return: estimativa da integral definida de f(x) no intervalo a,b\n",
        "    \"\"\"\n",
        "\n",
        "    h = (b - a) / 4\n",
        "    f0 = _f(a)\n",
        "    f1 = _f(a + h)\n",
        "    f2 = _f(a + 2 * h)\n",
        "    f3 = _f(a + 3 * h)\n",
        "    f4 = _f(b)\n",
        "    return 2 * h / 45 * (7 * f0 + 32 * f1 + 12 * f2 + 32 * f3 + 7 * f4)\n",
        "\n",
        "\n",
        "def newtoncotes_grau1_aberto(a, b, _f):\n",
        "    \"\"\"\n",
        "    Fórmula de integração de Newton-Cotes - Abordagem Aberta\n",
        "    Polinômio de substituição de grau 1\n",
        "    :param a: início do intervalo\n",
        "    :param b: fim do intervalo\n",
        "    :param _f: função f(x)\n",
        "    :return: estimativa da integral definida de f(x) no intervalo a,b\n",
        "    \"\"\"\n",
        "\n",
        "    h = (b - a) / 3\n",
        "    f0 = _f(a + h)\n",
        "    f1 = _f(a + 2 * h)\n",
        "    return 3 * h / 2 * (f0 + f1)\n",
        "\n",
        "\n",
        "def newtoncotes_grau2_aberto(a, b, _f):\n",
        "    \"\"\"\n",
        "    Fórmula de integração de Newton-Cotes - Abordagem Aberta\n",
        "    Polinômio de substituição de grau 2\n",
        "    :param a: início do intervalo\n",
        "    :param b: fim do intervalo\n",
        "    :param _f: função f(x)\n",
        "    :return: estimativa da integral definida de f(x) no intervalo a,b\n",
        "    \"\"\"\n",
        "\n",
        "    h = (b - a) / 4\n",
        "    f0 = _f(a + h)\n",
        "    f1 = _f(a + 2 * h)\n",
        "    f2 = _f(a + 3 * h)\n",
        "    return 4 * h / 3 * (2 * f0 - f1 + 2 * f2)\n",
        "\n",
        "\n",
        "def newtoncotes_grau3_aberto(a, b, _f):\n",
        "    \"\"\"\n",
        "    Fórmula de integração de Newton-Cotes - Abordagem Aberta\n",
        "    Polinômio de substituição de grau 3\n",
        "    :param a: início do intervalo\n",
        "    :param b: fim do intervalo\n",
        "    :param _f: função f(x)\n",
        "    :return: estimativa da integral definida de f(x) no intervalo a,b\n",
        "    \"\"\"\n",
        "\n",
        "    h = (b - a) / 5\n",
        "    f0 = _f(a + h)\n",
        "    f1 = _f(a + 2 * h)\n",
        "    f2 = _f(a + 3 * h)\n",
        "    f3 = _f(a + 4 * h)\n",
        "    return 5 * h / 24 * (11 * f0 + f1 + f2 + 11 * f3)\n",
        "\n",
        "\n",
        "def newtoncotes_grau4_aberto(a, b, _f):\n",
        "    \"\"\"\n",
        "    Fórmula de integração de Newton-Cotes - Abordagem Aberta\n",
        "    Polinômio de substituição de grau 4\n",
        "    :param a: início do intervalo\n",
        "    :param b: fim do intervalo\n",
        "    :param _f: função f(x)\n",
        "    :return: estimativa da integral definida de f(x) no intervalo a,b\n",
        "    \"\"\"\n",
        "\n",
        "    h = (b - a) / 6\n",
        "    f0 = _f(a + h)\n",
        "    f1 = _f(a + 2 * h)\n",
        "    f2 = _f(a + 3 * h)\n",
        "    f3 = _f(a + 4 * h)\n",
        "    f4 = _f(a + 5 * h)\n",
        "    return 3 * h / 10 * (11 * f0 - 14 * f1 + 26 * f2 - 14 * f3 + 11 * f4)"
      ],
      "execution_count": null,
      "outputs": []
    },
    {
      "cell_type": "markdown",
      "metadata": {
        "id": "jdukUPvr913i"
      },
      "source": [
        "O próximo bloco de código contém os métodos responsáveis por calcular o numero exato de particoes necessárias para alcançar o erro absoluto ou relativo pedido utilizando o método, função e intervalo selecionados.\n",
        "\n",
        "Neste exemplo cada iteração deve gerar uma aproximação de $\\int_{0}^{1} (\\sin{2x} + 4x^2 + 3x)^{2} \\,dx$, aumentando o número de partições a cada iteração e finalmente retornar o número de partições quando o erro for inferior à $10^{-6}$"
      ]
    },
    {
      "cell_type": "code",
      "metadata": {
        "id": "DNmHH6oe-JjU"
      },
      "source": [
        "def teste_particoes_erro_absoluto(a, b, _f, metodo, integral_exata, erro_absoluto):\n",
        "    \"\"\"\n",
        "\n",
        "    retorna o numero exato de particoes necessárias para alcançar o erro absoluto pedido utilizando o método selecionado\n",
        "\n",
        "    :param a: início do intervalo\n",
        "    :param b: fim do intervalo\n",
        "    :param _f: função f(x)\n",
        "    :param metodo: metodo de integração\n",
        "    :param integral_exata: valor exato da integral definida de f(x) no intervalo a,b\n",
        "    :param erro_absoluto: erro absoluto máximo esperado após particionamento\n",
        "    :return: número de partições necessárias para alcançar o erro absoluto pedido pelo método selecionado\n",
        "    \"\"\"\n",
        "\n",
        "    n = 0\n",
        "    while True:\n",
        "        n += 1\n",
        "        h = (b - a) / n\n",
        "        integral_calculada = 0\n",
        "        for i in range(n):\n",
        "            inicio_intervalo = a + (i * h)\n",
        "            fim_intervalo = a + ((i + 1) * h)\n",
        "            integral_calculada += metodo(inicio_intervalo, fim_intervalo, _f)\n",
        "\n",
        "        if math.fabs(integral_calculada - integral_exata) < erro_absoluto:\n",
        "            break\n",
        "\n",
        "    return n\n",
        "\n",
        "\n",
        "def teste_particoes_erro_relativo(a, b, _f, metodo, integral_exata, erro_relativo):\n",
        "    \"\"\"\n",
        "\n",
        "    retorna o numero exato de particoes necessárias para alcançar o erro relativo pedido utilizando o método selecionado\n",
        "\n",
        "    :param a: início do intervalo\n",
        "    :param b: fim do intervalo\n",
        "    :param _f: função f(x)\n",
        "    :param metodo: metodo de integração\n",
        "    :param integral_exata: valor exato da integral definida de f(x) no intervalo a,b\n",
        "    :param erro_relativo: erro relativo máximo esperado após particionamento\n",
        "    :return: número de partições necessárias para alcançar o erro relativo pedido pelo método selecionado\n",
        "    \"\"\"\n",
        "\n",
        "    n = 0\n",
        "    while True:\n",
        "        n += 1\n",
        "        h = (b - a) / n\n",
        "        integral_calculada = 0\n",
        "        for i in range(n):\n",
        "            inicio_intervalo = a + (i * h)\n",
        "            fim_intervalo = a + ((i + 1) * h)\n",
        "            integral_calculada += metodo(inicio_intervalo, fim_intervalo, _f)\n",
        "\n",
        "        if math.fabs((integral_exata - integral_calculada) / integral_calculada) < erro_relativo:\n",
        "            break\n",
        "\n",
        "    return n"
      ],
      "execution_count": null,
      "outputs": []
    },
    {
      "cell_type": "markdown",
      "metadata": {
        "id": "Vl_W5nzl-mQN"
      },
      "source": [
        "O próximo bloco de código contém métodos para calcular e imprimir os resultados, ou seja, o número de partições necessárias para o erro especificado utilizando cada fórmula de newton-cotes"
      ]
    },
    {
      "cell_type": "code",
      "metadata": {
        "id": "jHyNZMUu_N0z"
      },
      "source": [
        "def imprimir_resultados_erro_absoluto():\n",
        "    integral_exata = 17.8764703\n",
        "    tolerancia = math.pow(10, -6)\n",
        "\n",
        "    grau1_fechado = teste_particoes_erro_absoluto(0, 1, f, newtoncotes_grau1_fechado, integral_exata, tolerancia)\n",
        "    grau2_fechado = teste_particoes_erro_absoluto(0, 1, f, newtoncotes_grau2_fechado, integral_exata, tolerancia)\n",
        "    grau3_fechado = teste_particoes_erro_absoluto(0, 1, f, newtoncotes_grau3_fechado, integral_exata, tolerancia)\n",
        "    grau4_fechado = teste_particoes_erro_absoluto(0, 1, f, newtoncotes_grau4_fechado, integral_exata, tolerancia)\n",
        "\n",
        "    grau1_aberto = teste_particoes_erro_absoluto(0, 1, f, newtoncotes_grau1_aberto, integral_exata, tolerancia)\n",
        "    grau2_aberto = teste_particoes_erro_absoluto(0, 1, f, newtoncotes_grau2_aberto, integral_exata, tolerancia)\n",
        "    grau3_aberto = teste_particoes_erro_absoluto(0, 1, f, newtoncotes_grau3_aberto, integral_exata, tolerancia)\n",
        "    grau4_aberto = teste_particoes_erro_absoluto(0, 1, f, newtoncotes_grau4_aberto, integral_exata, tolerancia)\n",
        "\n",
        "    print('\\n--- método ---\\t\\t--- número de partições necessárias para erro absoluto menor que 10^-6 ---')\n",
        "\n",
        "    print('newtoncotes_grau1_fechado:\\t{}'.format(grau1_fechado))\n",
        "    print('newtoncotes_grau2_fechado:\\t{}'.format(grau2_fechado))\n",
        "    print('newtoncotes_grau3_fechado:\\t{}'.format(grau3_fechado))\n",
        "    print('newtoncotes_grau4_fechado:\\t{}'.format(grau4_fechado))\n",
        "\n",
        "    print('newtoncotes_grau1_aberto:\\t{}'.format(grau1_aberto))\n",
        "    print('newtoncotes_grau2_aberto:\\t{}'.format(grau2_aberto))\n",
        "    print('newtoncotes_grau3_aberto:\\t{}'.format(grau3_aberto))\n",
        "    print('newtoncotes_grau4_aberto:\\t{}'.format(grau4_aberto))\n",
        "\n",
        "\n",
        "def imprimir_resultados_erro_relativo():\n",
        "    integral_exata = 17.8764703\n",
        "    tolerancia = math.pow(10, -6)\n",
        "\n",
        "    grau1_fechado = teste_particoes_erro_relativo(0, 1, f, newtoncotes_grau1_fechado, integral_exata, tolerancia)\n",
        "    grau2_fechado = teste_particoes_erro_relativo(0, 1, f, newtoncotes_grau2_fechado, integral_exata, tolerancia)\n",
        "    grau3_fechado = teste_particoes_erro_relativo(0, 1, f, newtoncotes_grau3_fechado, integral_exata, tolerancia)\n",
        "    grau4_fechado = teste_particoes_erro_relativo(0, 1, f, newtoncotes_grau4_fechado, integral_exata, tolerancia)\n",
        "\n",
        "    grau1_aberto = teste_particoes_erro_relativo(0, 1, f, newtoncotes_grau1_aberto, integral_exata, tolerancia)\n",
        "    grau2_aberto = teste_particoes_erro_relativo(0, 1, f, newtoncotes_grau2_aberto, integral_exata, tolerancia)\n",
        "    grau3_aberto = teste_particoes_erro_relativo(0, 1, f, newtoncotes_grau3_aberto, integral_exata, tolerancia)\n",
        "    grau4_aberto = teste_particoes_erro_relativo(0, 1, f, newtoncotes_grau4_aberto, integral_exata, tolerancia)\n",
        "\n",
        "    print('\\n\\n--- método ---\\t\\t--- número de partições necessárias para erro relativo menor que 10^-6 ---')\n",
        "\n",
        "    print('newtoncotes_grau1_fechado:\\t{}'.format(grau1_fechado))\n",
        "    print('newtoncotes_grau2_fechado:\\t{}'.format(grau2_fechado))\n",
        "    print('newtoncotes_grau3_fechado:\\t{}'.format(grau3_fechado))\n",
        "    print('newtoncotes_grau4_fechado:\\t{}'.format(grau4_fechado))\n",
        "\n",
        "    print('newtoncotes_grau1_aberto:\\t{}'.format(grau1_aberto))\n",
        "    print('newtoncotes_grau2_aberto:\\t{}'.format(grau2_aberto))\n",
        "    print('newtoncotes_grau3_aberto:\\t{}'.format(grau3_aberto))\n",
        "    print('newtoncotes_grau4_aberto:\\t{}'.format(grau4_aberto))"
      ],
      "execution_count": null,
      "outputs": []
    },
    {
      "cell_type": "markdown",
      "metadata": {
        "id": "vJyG_CRF_PGj"
      },
      "source": [
        "**Resultados: número de partições necessárias para erro absoluto menor que $10^{-6})$**"
      ]
    },
    {
      "cell_type": "code",
      "metadata": {
        "colab": {
          "base_uri": "https://localhost:8080/"
        },
        "id": "o2hCD3aF_xte",
        "outputId": "997e5888-e9fd-4f27-ac5b-ff22fc52ae76"
      },
      "source": [
        "imprimir_resultados_erro_absoluto()"
      ],
      "execution_count": null,
      "outputs": [
        {
          "output_type": "stream",
          "text": [
            "\n",
            "--- método ---\t\t--- número de partições necessárias para erro absoluto menor que 10^-6 ---\n",
            "newtoncotes_grau1_fechado:\t3741\n",
            "newtoncotes_grau2_fechado:\t13\n",
            "newtoncotes_grau3_fechado:\t11\n",
            "newtoncotes_grau4_fechado:\t4\n",
            "newtoncotes_grau1_aberto:\t2071\n",
            "newtoncotes_grau2_aberto:\t13\n",
            "newtoncotes_grau3_aberto:\t12\n",
            "newtoncotes_grau4_aberto:\t4\n"
          ],
          "name": "stdout"
        }
      ]
    },
    {
      "cell_type": "markdown",
      "metadata": {
        "id": "Qk-K1kg5_3HK"
      },
      "source": [
        "**Resultados: número de partições necessárias para erro relativo menor que $10^{-6})$**"
      ]
    },
    {
      "cell_type": "code",
      "metadata": {
        "colab": {
          "base_uri": "https://localhost:8080/"
        },
        "id": "2RFMTOUB_6ji",
        "outputId": "ed53d33e-6bfa-4f6e-c743-0cc989d9b778"
      },
      "source": [
        "imprimir_resultados_erro_relativo()"
      ],
      "execution_count": null,
      "outputs": [
        {
          "output_type": "stream",
          "text": [
            "\n",
            "\n",
            "--- método ---\t\t--- número de partições necessárias para erro relativo menor que 10^-6 ---\n",
            "newtoncotes_grau1_fechado:\t867\n",
            "newtoncotes_grau2_fechado:\t7\n",
            "newtoncotes_grau3_fechado:\t6\n",
            "newtoncotes_grau4_fechado:\t3\n",
            "newtoncotes_grau1_aberto:\t500\n",
            "newtoncotes_grau2_aberto:\t6\n",
            "newtoncotes_grau3_aberto:\t6\n",
            "newtoncotes_grau4_aberto:\t3\n"
          ],
          "name": "stdout"
        }
      ]
    }
  ]
}