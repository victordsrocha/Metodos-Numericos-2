{
  "nbformat": 4,
  "nbformat_minor": 0,
  "metadata": {
    "colab": {
      "name": "Tarefa11-VictorRocha433475.ipynb",
      "provenance": [],
      "authorship_tag": "ABX9TyOnqjYdDIXPSzQH5siuJBuI",
      "include_colab_link": true
    },
    "kernelspec": {
      "name": "python3",
      "display_name": "Python 3"
    },
    "language_info": {
      "name": "python"
    }
  },
  "cells": [
    {
      "cell_type": "markdown",
      "metadata": {
        "id": "view-in-github",
        "colab_type": "text"
      },
      "source": [
        "<a href=\"https://colab.research.google.com/github/victordsrocha/Metodos-Numericos-2/blob/main/Tarefa11_VictorRocha433475.ipynb\" target=\"_parent\"><img src=\"https://colab.research.google.com/assets/colab-badge.svg\" alt=\"Open In Colab\"/></a>"
      ]
    },
    {
      "cell_type": "code",
      "metadata": {
        "colab": {
          "base_uri": "https://localhost:8080/"
        },
        "id": "6QHUhckQEg3Y",
        "outputId": "85787812-3789-4541-d453-db927cee1966"
      },
      "source": [
        "import numpy as np\n",
        "\n",
        "\n",
        "def potencia_regular(A, v0, erro):\n",
        "    lambda_novo = 0\n",
        "    v_novo = v0\n",
        "\n",
        "    # primeira iteração antes de entrar no while\n",
        "    lambda_velho = lambda_novo\n",
        "    v_velho = v_novo\n",
        "    x_velho = v_velho / np.linalg.norm(v_velho)  # linalg.norm retorna a norma do vetor\n",
        "    v_novo = A @ x_velho  # O operador @ retorna o produto matricial\n",
        "    lambda_novo = x_velho @ v_novo\n",
        "\n",
        "    while (abs(lambda_novo - lambda_velho)) / lambda_novo > erro:\n",
        "        lambda_velho = lambda_novo\n",
        "        v_velho = v_novo\n",
        "        x_velho = v_velho / np.linalg.norm(v_velho)\n",
        "        v_novo = A @ x_velho\n",
        "        lambda_novo = x_velho @ v_novo\n",
        "\n",
        "    return lambda_novo, x_velho\n",
        "\n",
        "\n",
        "def Resultado(A, v0, erro):\n",
        "    print(\"\\nMatriz A: \\n{}\".format(A))\n",
        "    erro = 0.00001\n",
        "    print(\"\\nMétodo: Potência regular; Erro: {}\".format(erro))\n",
        "    print(\"Resultados:\")\n",
        "    lambda_n, x_n = potencia_regular(A, v0, erro)\n",
        "    print(\"Lambda = {}; x = {}\".format(lambda_n, x_n))\n",
        "    print('\\n~~~~~~~~')\n",
        "\n",
        "\n",
        "A = np.array([[5., 2., 1.], [2., 3., 1.], [1., 1., 2.]])\n",
        "v0 = np.array([1., 1., 1.])\n",
        "Resultado(A, v0, 0.00001)\n",
        "\n",
        "A = np.array([[40., 8., 4., 2., 1.], [8., 30., 12., 6., 2.], [4., 12., 20., 1., 2.], [2., 6., 1., 25., 4.],\n",
        "              [1., 2., 2., 4., 5.]])\n",
        "v0 = np.array([1., 1., 1., 1., 1.])\n",
        "Resultado(A, v0, 0.00001)\n"
      ],
      "execution_count": 2,
      "outputs": [
        {
          "output_type": "stream",
          "text": [
            "\n",
            "Matriz A: \n",
            "[[5. 2. 1.]\n",
            " [2. 3. 1.]\n",
            " [1. 1. 2.]]\n",
            "\n",
            "Método: Potência regular; Erro: 1e-05\n",
            "Resultados:\n",
            "Lambda = 6.645747653786828; x = [0.80466984 0.52041512 0.28578761]\n",
            "\n",
            "~~~~~~~~\n",
            "\n",
            "Matriz A: \n",
            "[[40.  8.  4.  2.  1.]\n",
            " [ 8. 30. 12.  6.  2.]\n",
            " [ 4. 12. 20.  1.  2.]\n",
            " [ 2.  6.  1. 25.  4.]\n",
            " [ 1.  2.  2.  4.  5.]]\n",
            "\n",
            "Método: Potência regular; Erro: 1e-05\n",
            "Resultados:\n",
            "Lambda = 49.38296638270153; x = [0.69584742 0.58140935 0.34584366 0.22813204 0.07815033]\n",
            "\n",
            "~~~~~~~~\n"
          ],
          "name": "stdout"
        }
      ]
    }
  ]
}